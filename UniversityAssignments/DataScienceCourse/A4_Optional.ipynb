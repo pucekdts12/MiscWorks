{
 "cells": [
  {
   "cell_type": "code",
   "execution_count": 1,
   "metadata": {},
   "outputs": [],
   "source": [
    "import pandas as pd\n",
    "import numpy as np\n",
    "import matplotlib.pyplot as plt\n",
    "import string\n",
    "from sklearn.linear_model import LogisticRegression\n",
    "from sklearn.model_selection import train_test_split\n",
    "from sklearn.metrics import accuracy_score"
   ]
  },
  {
   "cell_type": "markdown",
   "metadata": {},
   "source": [
    "# In this assigment I will be using 3 different datasets.\n",
    "## 1. Red and white wine physicochemical properties. (no feature extraction from text)\n",
    "## 2. SMS Spam messages. (text extraction)\n",
    "## 3. Book summaries and genres. (multiclass and multioutput classification)"
   ]
  },
  {
   "cell_type": "markdown",
   "metadata": {},
   "source": [
    "# 1. Wine Dataset\n",
    "Data from: https://archive.ics.uci.edu/ml/datasets/Wine  \n",
    "  \n",
    "I did classification on this data set to check if we can tell from just physicochemical properties of wine if it's red or white.\n",
    "## Data Preparation"
   ]
  },
  {
   "cell_type": "code",
   "execution_count": 2,
   "metadata": {},
   "outputs": [
    {
     "name": "stdout",
     "output_type": "stream",
     "text": [
      "Red wine samples 1599\n",
      "White wine samples 4898\n",
      "Combined all?  True\n"
     ]
    },
    {
     "data": {
      "text/html": [
       "<div>\n",
       "<style scoped>\n",
       "    .dataframe tbody tr th:only-of-type {\n",
       "        vertical-align: middle;\n",
       "    }\n",
       "\n",
       "    .dataframe tbody tr th {\n",
       "        vertical-align: top;\n",
       "    }\n",
       "\n",
       "    .dataframe thead th {\n",
       "        text-align: right;\n",
       "    }\n",
       "</style>\n",
       "<table border=\"1\" class=\"dataframe\">\n",
       "  <thead>\n",
       "    <tr style=\"text-align: right;\">\n",
       "      <th></th>\n",
       "      <th>fixed acidity</th>\n",
       "      <th>volatile acidity</th>\n",
       "      <th>citric acid</th>\n",
       "      <th>residual sugar</th>\n",
       "      <th>chlorides</th>\n",
       "      <th>free sulfur dioxide</th>\n",
       "      <th>total sulfur dioxide</th>\n",
       "      <th>density</th>\n",
       "      <th>pH</th>\n",
       "      <th>sulphates</th>\n",
       "      <th>alcohol</th>\n",
       "      <th>quality</th>\n",
       "      <th>type</th>\n",
       "    </tr>\n",
       "  </thead>\n",
       "  <tbody>\n",
       "    <tr>\n",
       "      <th>0</th>\n",
       "      <td>7.4</td>\n",
       "      <td>0.70</td>\n",
       "      <td>0.00</td>\n",
       "      <td>1.9</td>\n",
       "      <td>0.076</td>\n",
       "      <td>11.0</td>\n",
       "      <td>34.0</td>\n",
       "      <td>0.9978</td>\n",
       "      <td>3.51</td>\n",
       "      <td>0.56</td>\n",
       "      <td>9.4</td>\n",
       "      <td>5</td>\n",
       "      <td>-1</td>\n",
       "    </tr>\n",
       "    <tr>\n",
       "      <th>1</th>\n",
       "      <td>7.8</td>\n",
       "      <td>0.88</td>\n",
       "      <td>0.00</td>\n",
       "      <td>2.6</td>\n",
       "      <td>0.098</td>\n",
       "      <td>25.0</td>\n",
       "      <td>67.0</td>\n",
       "      <td>0.9968</td>\n",
       "      <td>3.20</td>\n",
       "      <td>0.68</td>\n",
       "      <td>9.8</td>\n",
       "      <td>5</td>\n",
       "      <td>-1</td>\n",
       "    </tr>\n",
       "    <tr>\n",
       "      <th>2</th>\n",
       "      <td>7.8</td>\n",
       "      <td>0.76</td>\n",
       "      <td>0.04</td>\n",
       "      <td>2.3</td>\n",
       "      <td>0.092</td>\n",
       "      <td>15.0</td>\n",
       "      <td>54.0</td>\n",
       "      <td>0.9970</td>\n",
       "      <td>3.26</td>\n",
       "      <td>0.65</td>\n",
       "      <td>9.8</td>\n",
       "      <td>5</td>\n",
       "      <td>-1</td>\n",
       "    </tr>\n",
       "    <tr>\n",
       "      <th>3</th>\n",
       "      <td>11.2</td>\n",
       "      <td>0.28</td>\n",
       "      <td>0.56</td>\n",
       "      <td>1.9</td>\n",
       "      <td>0.075</td>\n",
       "      <td>17.0</td>\n",
       "      <td>60.0</td>\n",
       "      <td>0.9980</td>\n",
       "      <td>3.16</td>\n",
       "      <td>0.58</td>\n",
       "      <td>9.8</td>\n",
       "      <td>6</td>\n",
       "      <td>-1</td>\n",
       "    </tr>\n",
       "    <tr>\n",
       "      <th>4</th>\n",
       "      <td>7.4</td>\n",
       "      <td>0.70</td>\n",
       "      <td>0.00</td>\n",
       "      <td>1.9</td>\n",
       "      <td>0.076</td>\n",
       "      <td>11.0</td>\n",
       "      <td>34.0</td>\n",
       "      <td>0.9978</td>\n",
       "      <td>3.51</td>\n",
       "      <td>0.56</td>\n",
       "      <td>9.4</td>\n",
       "      <td>5</td>\n",
       "      <td>-1</td>\n",
       "    </tr>\n",
       "  </tbody>\n",
       "</table>\n",
       "</div>"
      ],
      "text/plain": [
       "   fixed acidity  volatile acidity  citric acid  residual sugar  chlorides  \\\n",
       "0            7.4              0.70         0.00             1.9      0.076   \n",
       "1            7.8              0.88         0.00             2.6      0.098   \n",
       "2            7.8              0.76         0.04             2.3      0.092   \n",
       "3           11.2              0.28         0.56             1.9      0.075   \n",
       "4            7.4              0.70         0.00             1.9      0.076   \n",
       "\n",
       "   free sulfur dioxide  total sulfur dioxide  density    pH  sulphates  \\\n",
       "0                 11.0                  34.0   0.9978  3.51       0.56   \n",
       "1                 25.0                  67.0   0.9968  3.20       0.68   \n",
       "2                 15.0                  54.0   0.9970  3.26       0.65   \n",
       "3                 17.0                  60.0   0.9980  3.16       0.58   \n",
       "4                 11.0                  34.0   0.9978  3.51       0.56   \n",
       "\n",
       "   alcohol  quality  type  \n",
       "0      9.4        5    -1  \n",
       "1      9.8        5    -1  \n",
       "2      9.8        5    -1  \n",
       "3      9.8        6    -1  \n",
       "4      9.4        5    -1  "
      ]
     },
     "execution_count": 2,
     "metadata": {},
     "output_type": "execute_result"
    }
   ],
   "source": [
    "# Load red and white wine datasets\n",
    "rw = pd.read_csv('winequality-red.csv', sep=';')\n",
    "ww = pd.read_csv('winequality-white.csv', sep=';')\n",
    "\n",
    "print(f'Red wine samples {len(rw)}')\n",
    "print(f'White wine samples {len(ww)}')\n",
    "\n",
    "# Add column 'type' which will be used for our classification\n",
    "# Red Wine = -1\n",
    "rw['type'] = -1\n",
    "# White Wine = 1\n",
    "ww['type'] = 1\n",
    "\n",
    "# Combine datasets\n",
    "wine_df = pd.concat([rw,ww],ignore_index=True)\n",
    "# Check if we succesfully copmbined datasets\n",
    "print('Combined all? ',str(len(wine_df.index) == len(ww.index)+len(rw.index)))\n",
    "wine_df.head()"
   ]
  },
  {
   "cell_type": "markdown",
   "metadata": {},
   "source": [
    "### Our data was combined correctly, so let's move on."
   ]
  },
  {
   "cell_type": "markdown",
   "metadata": {},
   "source": [
    "## Extract and normalize data\n",
    "### We need to normalize our data (I will just scale all values to range from 0 to 1), so our LogisticRegression model coefficients are meaningful."
   ]
  },
  {
   "cell_type": "code",
   "execution_count": 3,
   "metadata": {},
   "outputs": [
    {
     "name": "stdout",
     "output_type": "stream",
     "text": [
      "Features: fixed acidity, volatile acidity, citric acid, residual sugar, chlorides, free sulfur dioxide, total sulfur dioxide, density, pH, sulphates, alcohol\n"
     ]
    }
   ],
   "source": [
    "features = wine_df.columns[:11]\n",
    "print('Features:',', '.join(features))\n",
    "X = wine_df[features].values\n",
    "y = wine_df['type'].values\n",
    "\n",
    "from sklearn import preprocessing\n",
    "# scale each column to range [0,1]\n",
    "X = preprocessing.minmax_scale(X)\n"
   ]
  },
  {
   "cell_type": "markdown",
   "metadata": {},
   "source": [
    "## Model Training\n",
    "### For now we will use all features except 'quality' beacuse it is arbitrary score.\n",
    "### Column 'type' in this case is our classifier: -1 for red wine and 1 for white"
   ]
  },
  {
   "cell_type": "code",
   "execution_count": 4,
   "metadata": {},
   "outputs": [
    {
     "data": {
      "text/plain": [
       "LogisticRegression(max_iter=2000)"
      ]
     },
     "execution_count": 4,
     "metadata": {},
     "output_type": "execute_result"
    }
   ],
   "source": [
    "model = LogisticRegression(max_iter = 2000)\n",
    "X_train,X_test, y_train,y_test = train_test_split(X,y, random_state=24, test_size = 0.25)\n",
    "model.fit(X_train,y_train)"
   ]
  },
  {
   "cell_type": "code",
   "execution_count": 5,
   "metadata": {},
   "outputs": [
    {
     "name": "stdout",
     "output_type": "stream",
     "text": [
      "0.9833846153846154\n",
      "[-1  1]\n"
     ]
    },
    {
     "data": {
      "text/html": [
       "<style type=\"text/css\">\n",
       "</style>\n",
       "<table id=\"T_dcb96_\">\n",
       "  <thead>\n",
       "    <tr>\n",
       "      <th class=\"col_heading level0 col0\" >name</th>\n",
       "      <th class=\"col_heading level0 col1\" >coef</th>\n",
       "    </tr>\n",
       "  </thead>\n",
       "  <tbody>\n",
       "    <tr>\n",
       "      <td id=\"T_dcb96_row0_col0\" class=\"data row0 col0\" >volatile acidity</td>\n",
       "      <td id=\"T_dcb96_row0_col1\" class=\"data row0 col1\" >-8.749663</td>\n",
       "    </tr>\n",
       "    <tr>\n",
       "      <td id=\"T_dcb96_row1_col0\" class=\"data row1 col0\" >fixed acidity</td>\n",
       "      <td id=\"T_dcb96_row1_col1\" class=\"data row1 col1\" >-7.138174</td>\n",
       "    </tr>\n",
       "    <tr>\n",
       "      <td id=\"T_dcb96_row2_col0\" class=\"data row2 col0\" >sulphates</td>\n",
       "      <td id=\"T_dcb96_row2_col1\" class=\"data row2 col1\" >-6.436643</td>\n",
       "    </tr>\n",
       "    <tr>\n",
       "      <td id=\"T_dcb96_row3_col0\" class=\"data row3 col0\" >chlorides</td>\n",
       "      <td id=\"T_dcb96_row3_col1\" class=\"data row3 col1\" >-5.854486</td>\n",
       "    </tr>\n",
       "    <tr>\n",
       "      <td id=\"T_dcb96_row4_col0\" class=\"data row4 col0\" >pH</td>\n",
       "      <td id=\"T_dcb96_row4_col1\" class=\"data row4 col1\" >-5.645728</td>\n",
       "    </tr>\n",
       "    <tr>\n",
       "      <td id=\"T_dcb96_row5_col0\" class=\"data row5 col0\" >density</td>\n",
       "      <td id=\"T_dcb96_row5_col1\" class=\"data row5 col1\" >-5.047859</td>\n",
       "    </tr>\n",
       "    <tr>\n",
       "      <td id=\"T_dcb96_row6_col0\" class=\"data row6 col0\" >alcohol</td>\n",
       "      <td id=\"T_dcb96_row6_col1\" class=\"data row6 col1\" >1.098243</td>\n",
       "    </tr>\n",
       "    <tr>\n",
       "      <td id=\"T_dcb96_row7_col0\" class=\"data row7 col0\" >citric acid</td>\n",
       "      <td id=\"T_dcb96_row7_col1\" class=\"data row7 col1\" >1.114819</td>\n",
       "    </tr>\n",
       "    <tr>\n",
       "      <td id=\"T_dcb96_row8_col0\" class=\"data row8 col0\" >free sulfur dioxide</td>\n",
       "      <td id=\"T_dcb96_row8_col1\" class=\"data row8 col1\" >1.448624</td>\n",
       "    </tr>\n",
       "    <tr>\n",
       "      <td id=\"T_dcb96_row9_col0\" class=\"data row9 col0\" >residual sugar</td>\n",
       "      <td id=\"T_dcb96_row9_col1\" class=\"data row9 col1\" >4.155372</td>\n",
       "    </tr>\n",
       "    <tr>\n",
       "      <td id=\"T_dcb96_row10_col0\" class=\"data row10 col0\" >total sulfur dioxide</td>\n",
       "      <td id=\"T_dcb96_row10_col1\" class=\"data row10 col1\" >11.903172</td>\n",
       "    </tr>\n",
       "  </tbody>\n",
       "</table>\n"
      ],
      "text/plain": [
       "<pandas.io.formats.style.Styler at 0x19be7c08>"
      ]
     },
     "execution_count": 5,
     "metadata": {},
     "output_type": "execute_result"
    }
   ],
   "source": [
    "feat_df = pd.DataFrame({'name':features,'coef':model.coef_[0]})\n",
    "\n",
    "y_pred = model.predict(X_test)\n",
    "print(accuracy_score(y_test,y_pred))\n",
    "print(model.classes_)\n",
    "feat_df.sort_values('coef').style.hide_index()"
   ]
  },
  {
   "cell_type": "markdown",
   "metadata": {},
   "source": [
    "# 2. SMS Spam\n",
    "\n",
    "## Data Preparation\n",
    "Data from: https://www.dt.fee.unicamp.br/~tiago/smsspamcollection/  \n",
    "  \n",
    "Text file contains 2 columns, first tells us if following message is spam (spam) or not (ham), and second colun is message itself.  \n",
    "Based on this I will replace 'spam' with -1 and 'ham' with 1.  \n",
    "Also our data doesn't contain any NaN values, so we don't need to worry about it.  "
   ]
  },
  {
   "cell_type": "code",
   "execution_count": 6,
   "metadata": {},
   "outputs": [
    {
     "data": {
      "text/html": [
       "<div>\n",
       "<style scoped>\n",
       "    .dataframe tbody tr th:only-of-type {\n",
       "        vertical-align: middle;\n",
       "    }\n",
       "\n",
       "    .dataframe tbody tr th {\n",
       "        vertical-align: top;\n",
       "    }\n",
       "\n",
       "    .dataframe thead th {\n",
       "        text-align: right;\n",
       "    }\n",
       "</style>\n",
       "<table border=\"1\" class=\"dataframe\">\n",
       "  <thead>\n",
       "    <tr style=\"text-align: right;\">\n",
       "      <th></th>\n",
       "      <th>Type</th>\n",
       "      <th>Text</th>\n",
       "    </tr>\n",
       "  </thead>\n",
       "  <tbody>\n",
       "    <tr>\n",
       "      <th>0</th>\n",
       "      <td>1</td>\n",
       "      <td>Go until jurong point, crazy.. Available only ...</td>\n",
       "    </tr>\n",
       "    <tr>\n",
       "      <th>1</th>\n",
       "      <td>1</td>\n",
       "      <td>Ok lar... Joking wif u oni...</td>\n",
       "    </tr>\n",
       "    <tr>\n",
       "      <th>2</th>\n",
       "      <td>-1</td>\n",
       "      <td>Free entry in 2 a wkly comp to win FA Cup fina...</td>\n",
       "    </tr>\n",
       "    <tr>\n",
       "      <th>3</th>\n",
       "      <td>1</td>\n",
       "      <td>U dun say so early hor... U c already then say...</td>\n",
       "    </tr>\n",
       "    <tr>\n",
       "      <th>4</th>\n",
       "      <td>1</td>\n",
       "      <td>Nah I don't think he goes to usf, he lives aro...</td>\n",
       "    </tr>\n",
       "  </tbody>\n",
       "</table>\n",
       "</div>"
      ],
      "text/plain": [
       "   Type                                               Text\n",
       "0     1  Go until jurong point, crazy.. Available only ...\n",
       "1     1                      Ok lar... Joking wif u oni...\n",
       "2    -1  Free entry in 2 a wkly comp to win FA Cup fina...\n",
       "3     1  U dun say so early hor... U c already then say...\n",
       "4     1  Nah I don't think he goes to usf, he lives aro..."
      ]
     },
     "execution_count": 6,
     "metadata": {},
     "output_type": "execute_result"
    }
   ],
   "source": [
    "sms_df = pd.read_csv('SMSSpamCollection.txt',sep='\\t',header = None,names = ['Type','Text'])\n",
    "# spam sms is -1 and legit sms is 1\n",
    "sms_df['Type'].replace('spam',-1,inplace = True)\n",
    "sms_df['Type'].replace('ham',1,inplace = True)\n",
    "sms_df.head()"
   ]
  },
  {
   "cell_type": "markdown",
   "metadata": {},
   "source": [
    "To prepare our text data for feature extraction we need to remove all non meaningful characters/words from text.  \n",
    "Firstly we will remove all punctuation and then using **ntlk** library, we'll remove all *english* stop words.  \n",
    "I will also save non processed text so we can later display whole messages.  "
   ]
  },
  {
   "cell_type": "code",
   "execution_count": 7,
   "metadata": {},
   "outputs": [
    {
     "data": {
      "text/html": [
       "<div>\n",
       "<style scoped>\n",
       "    .dataframe tbody tr th:only-of-type {\n",
       "        vertical-align: middle;\n",
       "    }\n",
       "\n",
       "    .dataframe tbody tr th {\n",
       "        vertical-align: top;\n",
       "    }\n",
       "\n",
       "    .dataframe thead th {\n",
       "        text-align: right;\n",
       "    }\n",
       "</style>\n",
       "<table border=\"1\" class=\"dataframe\">\n",
       "  <thead>\n",
       "    <tr style=\"text-align: right;\">\n",
       "      <th></th>\n",
       "      <th>Type</th>\n",
       "      <th>Text</th>\n",
       "      <th>Text old</th>\n",
       "    </tr>\n",
       "  </thead>\n",
       "  <tbody>\n",
       "    <tr>\n",
       "      <th>0</th>\n",
       "      <td>1</td>\n",
       "      <td>Go jurong point crazy Available bugis n great ...</td>\n",
       "      <td>Go until jurong point, crazy.. Available only ...</td>\n",
       "    </tr>\n",
       "    <tr>\n",
       "      <th>1</th>\n",
       "      <td>1</td>\n",
       "      <td>Ok lar Joking wif u oni</td>\n",
       "      <td>Ok lar... Joking wif u oni...</td>\n",
       "    </tr>\n",
       "    <tr>\n",
       "      <th>2</th>\n",
       "      <td>-1</td>\n",
       "      <td>Free entry 2 wkly comp win FA Cup final tkts 2...</td>\n",
       "      <td>Free entry in 2 a wkly comp to win FA Cup fina...</td>\n",
       "    </tr>\n",
       "    <tr>\n",
       "      <th>3</th>\n",
       "      <td>1</td>\n",
       "      <td>U dun say early hor U c already say</td>\n",
       "      <td>U dun say so early hor... U c already then say...</td>\n",
       "    </tr>\n",
       "    <tr>\n",
       "      <th>4</th>\n",
       "      <td>1</td>\n",
       "      <td>Nah I dont think goes usf lives around though</td>\n",
       "      <td>Nah I don't think he goes to usf, he lives aro...</td>\n",
       "    </tr>\n",
       "  </tbody>\n",
       "</table>\n",
       "</div>"
      ],
      "text/plain": [
       "   Type                                               Text  \\\n",
       "0     1  Go jurong point crazy Available bugis n great ...   \n",
       "1     1                            Ok lar Joking wif u oni   \n",
       "2    -1  Free entry 2 wkly comp win FA Cup final tkts 2...   \n",
       "3     1                U dun say early hor U c already say   \n",
       "4     1      Nah I dont think goes usf lives around though   \n",
       "\n",
       "                                            Text old  \n",
       "0  Go until jurong point, crazy.. Available only ...  \n",
       "1                      Ok lar... Joking wif u oni...  \n",
       "2  Free entry in 2 a wkly comp to win FA Cup fina...  \n",
       "3  U dun say so early hor... U c already then say...  \n",
       "4  Nah I don't think he goes to usf, he lives aro...  "
      ]
     },
     "execution_count": 7,
     "metadata": {},
     "output_type": "execute_result"
    }
   ],
   "source": [
    "# remove punctuation\n",
    "import string\n",
    "sep = chr(0)\n",
    "trans = str.maketrans('','',string.punctuation)\n",
    "sms_df['Text old'] = sms_df['Text']\n",
    "sms_df['Text'] = sep.join(sms_df['Text']).translate(trans).split(sep)\n",
    "\n",
    "import nltk\n",
    "# download stopwords\n",
    "# nltk.download('stopwords')\n",
    "from nltk.corpus import stopwords\n",
    "stop = stopwords.words('english')\n",
    "\n",
    "# remove all english stop words\n",
    "sms_df['Text'] = sms_df['Text'].apply(lambda s: ' '.join([w for w in s.split() if w not in stop]))\n",
    "sms_df.head()\n"
   ]
  },
  {
   "cell_type": "markdown",
   "metadata": {},
   "source": [
    "Spliting data into test and train sets and vectorizing them."
   ]
  },
  {
   "cell_type": "code",
   "execution_count": 8,
   "metadata": {},
   "outputs": [],
   "source": [
    "from sklearn.feature_extraction.text import CountVectorizer\n",
    "sms_vect = CountVectorizer()\n",
    "# sms_X = sms_df['Text'].values\n",
    "sms_X = sms_df['Text']\n",
    "sms_y = sms_df['Type'].values\n",
    "\n",
    "sms_X_train,sms_X_test, sms_y_train,sms_y_test = train_test_split(sms_X,sms_y,random_state = 66, test_size = 0.25)\n",
    "\n",
    "sms_X_train = sms_vect.fit_transform(sms_X_train)\n",
    "# keep non vectorized reviews for display later on\n",
    "sms_X_test_ = sms_X_test\n",
    "sms_X_test = sms_vect.transform(sms_X_test)\n"
   ]
  },
  {
   "cell_type": "markdown",
   "metadata": {},
   "source": [
    "## Train model"
   ]
  },
  {
   "cell_type": "code",
   "execution_count": 9,
   "metadata": {},
   "outputs": [
    {
     "data": {
      "text/plain": [
       "LogisticRegression(max_iter=2000)"
      ]
     },
     "execution_count": 9,
     "metadata": {},
     "output_type": "execute_result"
    }
   ],
   "source": [
    "sms_model = LogisticRegression(max_iter = 2000)\n",
    "sms_model.fit(sms_X_train,sms_y_train)\n"
   ]
  },
  {
   "cell_type": "markdown",
   "metadata": {},
   "source": [
    "Which words suggest that SMS may be a spam, and which suggest otherwise"
   ]
  },
  {
   "cell_type": "code",
   "execution_count": 10,
   "metadata": {},
   "outputs": [
    {
     "name": "stdout",
     "output_type": "stream",
     "text": [
      "Words hinting that sms is a spam: txt, ringtone, text, stop, claim, mobile, call, reply, message, 18\n",
      "Words hinting that sms is not a spam: da, and, im, amp, later, sorry, ok, sir, ill, ltgt\n"
     ]
    }
   ],
   "source": [
    "coef = sms_model.coef_[0]\n",
    "words = sms_vect.get_feature_names_out()\n",
    "rank = np.argsort(coef)\n",
    "print( 'Words hinting that sms is a spam:', ', '.join( np.take(words,rank[:10]) ) )\n",
    "print( 'Words hinting that sms is not a spam:', ', '.join( np.take(words,rank[-10:]) ) )"
   ]
  },
  {
   "cell_type": "markdown",
   "metadata": {},
   "source": [
    "Predicting"
   ]
  },
  {
   "cell_type": "code",
   "execution_count": 11,
   "metadata": {},
   "outputs": [],
   "source": [
    "sms_y_pred = sms_model.predict(sms_X_test)"
   ]
  },
  {
   "cell_type": "markdown",
   "metadata": {},
   "source": [
    "Prediction accuracy"
   ]
  },
  {
   "cell_type": "code",
   "execution_count": 12,
   "metadata": {},
   "outputs": [
    {
     "name": "stdout",
     "output_type": "stream",
     "text": [
      "0.9748743718592965\n"
     ]
    }
   ],
   "source": [
    "print(accuracy_score(sms_y_test,sms_y_pred))"
   ]
  },
  {
   "cell_type": "code",
   "execution_count": 13,
   "metadata": {},
   "outputs": [
    {
     "name": "stdout",
     "output_type": "stream",
     "text": [
      "[-1  1]\n",
      "Top 5 SMS with highest probability of being spam\n",
      "['You have WON a guaranteed £1000 cash or a £2000 prize. To claim yr prize call our customer service representative on 08714712394 between 10am-7pm'\n",
      " 'FreeMsg: Fancy a flirt? Reply DATE now & join the UKs fastest growing mobile dating service. Msgs rcvd just 25p to optout txt stop to 83021. Reply DATE now!'\n",
      " 'This message is free. Welcome to the new & improved Sex & Dogging club! To unsubscribe from this service reply STOP. msgs@150p 18 only'\n",
      " 'Ur ringtone service has changed! 25 Free credits! Go to club4mobiles.com to choose content now! Stop? txt CLUB STOP to 87070. 150p/wk Club4 PO Box1146 MK45 2WT'\n",
      " 'You have WON a guaranteed £1000 cash or a £2000 prize. To claim yr prize call our customer service representative on 08714712412 between 10am-7pm Cost 10p']\n",
      "Top 5 SMS with highest probability of NOT being spam\n",
      "['Heart is empty without love.. Mind is empty without wisdom.. Eyes r empty without dreams &amp; Life is empty without frnds.. So Alwys Be In Touch. Good night &amp; sweet dreams'\n",
      " \"Hello, yeah i've just got out of the bath and need to do my hair so i'll come up when i'm done, yeah?\"\n",
      " 'Sir, good morning. Hope you had a good weekend. I called to let you know that i was able to raise  &lt;#&gt;  from my dad. He however said he would make the rest available by mid feb. This amount is still quite short and i was hoping you would help. Do have a good day. Abiola'\n",
      " 'Darren was saying dat if u meeting da ge den we dun meet 4 dinner. Cos later u leave xy will feel awkward. Den u meet him 4 lunch lor.'\n",
      " 'And that is the problem. You walk around in \"julianaland\" oblivious to what is going on around you. I say the same things constantly and they go in one ear and out the other while you go off doing whatever you want to do. It\\'s not that you don\\'t know why I\\'m upset--it\\'s that you don\\'t listen when i tell you WHAT is going to upset me. Then you want to be surprised when I\\'m mad.']\n"
     ]
    }
   ],
   "source": [
    "sms_prob = sms_model.predict_proba(sms_X_test)\n",
    "print(sms_model.classes_)\n",
    "spam = sms_prob[:,0]\n",
    "ham = sms_prob[:,1]\n",
    "\n",
    "\n",
    "# print(np.take(sms_X_test_,np.argsort(spam)[-5:]))\n",
    "# np.take(sms_df['Text old'].values,np.take(sms_X_test_,np.argsort(spam)[-5:]).keys().to_numpy())\n",
    "print('Top 5 SMS with highest probability of being spam')\n",
    "print(np.take(sms_df['Text old'].values,np.take(sms_X_test_,np.argsort(spam)[-5:]).keys().to_numpy()))\n",
    "\n",
    "print('Top 5 SMS with highest probability of NOT being spam')\n",
    "print(np.take(sms_df['Text old'].values,np.take(sms_X_test_,np.argsort(ham)[-5:]).keys().to_numpy()))\n",
    "\n",
    "# print(np.take(sms_X_test_,np.argsort(ham)[-5:]))\n"
   ]
  },
  {
   "cell_type": "markdown",
   "metadata": {},
   "source": [
    "# 3. Book summaries dataset\n",
    "This part was mostly made from curiosity if we can make model that will be able to pretty accurately predict book genres (multiple per book) based on just book summary.\n",
    "\n",
    "\n",
    "## Data Preparation\n",
    "Dataset contains:\n",
    "1. Wikipedia article ID\n",
    "2. Freebase ID\n",
    "3. Book title\n",
    "4. Author\n",
    "5. Publication date\n",
    "6. Book genres (Freebase ID:name tuples)\n",
    "7. Plot summary  \n",
    "\n",
    "For classification we will only need 'book genres' and 'plot summary' and for convenience 'book title'  \n",
    "Also we should drop every book without specified genre(s)"
   ]
  },
  {
   "cell_type": "code",
   "execution_count": 14,
   "metadata": {},
   "outputs": [
    {
     "data": {
      "text/html": [
       "<div>\n",
       "<style scoped>\n",
       "    .dataframe tbody tr th:only-of-type {\n",
       "        vertical-align: middle;\n",
       "    }\n",
       "\n",
       "    .dataframe tbody tr th {\n",
       "        vertical-align: top;\n",
       "    }\n",
       "\n",
       "    .dataframe thead th {\n",
       "        text-align: right;\n",
       "    }\n",
       "</style>\n",
       "<table border=\"1\" class=\"dataframe\">\n",
       "  <thead>\n",
       "    <tr style=\"text-align: right;\">\n",
       "      <th></th>\n",
       "      <th>Title</th>\n",
       "      <th>Genre</th>\n",
       "      <th>Summary</th>\n",
       "    </tr>\n",
       "  </thead>\n",
       "  <tbody>\n",
       "    <tr>\n",
       "      <th>0</th>\n",
       "      <td>Animal Farm</td>\n",
       "      <td>{\"/m/016lj8\": \"Roman \\u00e0 clef\", \"/m/06nbt\":...</td>\n",
       "      <td>Old Major, the old boar on the Manor Farm, ca...</td>\n",
       "    </tr>\n",
       "    <tr>\n",
       "      <th>1</th>\n",
       "      <td>A Clockwork Orange</td>\n",
       "      <td>{\"/m/06n90\": \"Science Fiction\", \"/m/0l67h\": \"N...</td>\n",
       "      <td>Alex, a teenager living in near-future Englan...</td>\n",
       "    </tr>\n",
       "    <tr>\n",
       "      <th>2</th>\n",
       "      <td>The Plague</td>\n",
       "      <td>{\"/m/02m4t\": \"Existentialism\", \"/m/02xlf\": \"Fi...</td>\n",
       "      <td>The text of The Plague is divided into five p...</td>\n",
       "    </tr>\n",
       "    <tr>\n",
       "      <th>4</th>\n",
       "      <td>A Fire Upon the Deep</td>\n",
       "      <td>{\"/m/03lrw\": \"Hard science fiction\", \"/m/06n90...</td>\n",
       "      <td>The novel posits that space around the Milky ...</td>\n",
       "    </tr>\n",
       "    <tr>\n",
       "      <th>5</th>\n",
       "      <td>All Quiet on the Western Front</td>\n",
       "      <td>{\"/m/098tmk\": \"War novel\", \"/m/016lj8\": \"Roman...</td>\n",
       "      <td>The book tells the story of Paul Bäumer, a Ge...</td>\n",
       "    </tr>\n",
       "  </tbody>\n",
       "</table>\n",
       "</div>"
      ],
      "text/plain": [
       "                            Title  \\\n",
       "0                     Animal Farm   \n",
       "1              A Clockwork Orange   \n",
       "2                      The Plague   \n",
       "4            A Fire Upon the Deep   \n",
       "5  All Quiet on the Western Front   \n",
       "\n",
       "                                               Genre  \\\n",
       "0  {\"/m/016lj8\": \"Roman \\u00e0 clef\", \"/m/06nbt\":...   \n",
       "1  {\"/m/06n90\": \"Science Fiction\", \"/m/0l67h\": \"N...   \n",
       "2  {\"/m/02m4t\": \"Existentialism\", \"/m/02xlf\": \"Fi...   \n",
       "4  {\"/m/03lrw\": \"Hard science fiction\", \"/m/06n90...   \n",
       "5  {\"/m/098tmk\": \"War novel\", \"/m/016lj8\": \"Roman...   \n",
       "\n",
       "                                             Summary  \n",
       "0   Old Major, the old boar on the Manor Farm, ca...  \n",
       "1   Alex, a teenager living in near-future Englan...  \n",
       "2   The text of The Plague is divided into five p...  \n",
       "4   The novel posits that space around the Milky ...  \n",
       "5   The book tells the story of Paul Bäumer, a Ge...  "
      ]
     },
     "execution_count": 14,
     "metadata": {},
     "output_type": "execute_result"
    }
   ],
   "source": [
    "book_df = pd.read_csv('booksummaries.txt',sep='\\t', usecols = [2,5,6], header=None , names=['Title','Genre','Summary'])\n",
    "# remove rows with NaN values\n",
    "book_df.dropna(inplace=True)\n",
    "book_df.head()\n",
    "\n",
    "# book_df['tmp'] = book_df['Genre'].apply(json.loads)\n"
   ]
  },
  {
   "cell_type": "markdown",
   "metadata": {},
   "source": [
    "Values of 'genre' column are JSON formatted strings so we need to convert it to lists of just values (we don't need keys as they're some internal id's of database from which this data was extracted)"
   ]
  },
  {
   "cell_type": "code",
   "execution_count": 15,
   "metadata": {},
   "outputs": [
    {
     "data": {
      "text/html": [
       "<div>\n",
       "<style scoped>\n",
       "    .dataframe tbody tr th:only-of-type {\n",
       "        vertical-align: middle;\n",
       "    }\n",
       "\n",
       "    .dataframe tbody tr th {\n",
       "        vertical-align: top;\n",
       "    }\n",
       "\n",
       "    .dataframe thead th {\n",
       "        text-align: right;\n",
       "    }\n",
       "</style>\n",
       "<table border=\"1\" class=\"dataframe\">\n",
       "  <thead>\n",
       "    <tr style=\"text-align: right;\">\n",
       "      <th></th>\n",
       "      <th>Title</th>\n",
       "      <th>Genre</th>\n",
       "      <th>Summary</th>\n",
       "      <th>Genres List</th>\n",
       "    </tr>\n",
       "  </thead>\n",
       "  <tbody>\n",
       "    <tr>\n",
       "      <th>0</th>\n",
       "      <td>Animal Farm</td>\n",
       "      <td>{\"/m/016lj8\": \"Roman \\u00e0 clef\", \"/m/06nbt\":...</td>\n",
       "      <td>Old Major, the old boar on the Manor Farm, ca...</td>\n",
       "      <td>[Roman à clef, Satire, Children's literature, ...</td>\n",
       "    </tr>\n",
       "    <tr>\n",
       "      <th>1</th>\n",
       "      <td>A Clockwork Orange</td>\n",
       "      <td>{\"/m/06n90\": \"Science Fiction\", \"/m/0l67h\": \"N...</td>\n",
       "      <td>Alex, a teenager living in near-future Englan...</td>\n",
       "      <td>[Science Fiction, Novella, Speculative fiction...</td>\n",
       "    </tr>\n",
       "    <tr>\n",
       "      <th>2</th>\n",
       "      <td>The Plague</td>\n",
       "      <td>{\"/m/02m4t\": \"Existentialism\", \"/m/02xlf\": \"Fi...</td>\n",
       "      <td>The text of The Plague is divided into five p...</td>\n",
       "      <td>[Existentialism, Fiction, Absurdist fiction, N...</td>\n",
       "    </tr>\n",
       "    <tr>\n",
       "      <th>4</th>\n",
       "      <td>A Fire Upon the Deep</td>\n",
       "      <td>{\"/m/03lrw\": \"Hard science fiction\", \"/m/06n90...</td>\n",
       "      <td>The novel posits that space around the Milky ...</td>\n",
       "      <td>[Hard science fiction, Science Fiction, Specul...</td>\n",
       "    </tr>\n",
       "    <tr>\n",
       "      <th>5</th>\n",
       "      <td>All Quiet on the Western Front</td>\n",
       "      <td>{\"/m/098tmk\": \"War novel\", \"/m/016lj8\": \"Roman...</td>\n",
       "      <td>The book tells the story of Paul Bäumer, a Ge...</td>\n",
       "      <td>[War novel, Roman à clef]</td>\n",
       "    </tr>\n",
       "  </tbody>\n",
       "</table>\n",
       "</div>"
      ],
      "text/plain": [
       "                            Title  \\\n",
       "0                     Animal Farm   \n",
       "1              A Clockwork Orange   \n",
       "2                      The Plague   \n",
       "4            A Fire Upon the Deep   \n",
       "5  All Quiet on the Western Front   \n",
       "\n",
       "                                               Genre  \\\n",
       "0  {\"/m/016lj8\": \"Roman \\u00e0 clef\", \"/m/06nbt\":...   \n",
       "1  {\"/m/06n90\": \"Science Fiction\", \"/m/0l67h\": \"N...   \n",
       "2  {\"/m/02m4t\": \"Existentialism\", \"/m/02xlf\": \"Fi...   \n",
       "4  {\"/m/03lrw\": \"Hard science fiction\", \"/m/06n90...   \n",
       "5  {\"/m/098tmk\": \"War novel\", \"/m/016lj8\": \"Roman...   \n",
       "\n",
       "                                             Summary  \\\n",
       "0   Old Major, the old boar on the Manor Farm, ca...   \n",
       "1   Alex, a teenager living in near-future Englan...   \n",
       "2   The text of The Plague is divided into five p...   \n",
       "4   The novel posits that space around the Milky ...   \n",
       "5   The book tells the story of Paul Bäumer, a Ge...   \n",
       "\n",
       "                                         Genres List  \n",
       "0  [Roman à clef, Satire, Children's literature, ...  \n",
       "1  [Science Fiction, Novella, Speculative fiction...  \n",
       "2  [Existentialism, Fiction, Absurdist fiction, N...  \n",
       "4  [Hard science fiction, Science Fiction, Specul...  \n",
       "5                          [War novel, Roman à clef]  "
      ]
     },
     "execution_count": 15,
     "metadata": {},
     "output_type": "execute_result"
    }
   ],
   "source": [
    "import json\n",
    "\n",
    "# parse json string to python list\n",
    "book_df['Genres List'] = book_df['Genre'].apply(lambda x: list(json.loads(x).values()))\n",
    "\n",
    "book_df.head()\n"
   ]
  },
  {
   "cell_type": "markdown",
   "metadata": {},
   "source": [
    "Here I do same text preparation as in previous dataset.  \n",
    "Remove punctuation and stop words."
   ]
  },
  {
   "cell_type": "code",
   "execution_count": 16,
   "metadata": {},
   "outputs": [
    {
     "data": {
      "text/html": [
       "<div>\n",
       "<style scoped>\n",
       "    .dataframe tbody tr th:only-of-type {\n",
       "        vertical-align: middle;\n",
       "    }\n",
       "\n",
       "    .dataframe tbody tr th {\n",
       "        vertical-align: top;\n",
       "    }\n",
       "\n",
       "    .dataframe thead th {\n",
       "        text-align: right;\n",
       "    }\n",
       "</style>\n",
       "<table border=\"1\" class=\"dataframe\">\n",
       "  <thead>\n",
       "    <tr style=\"text-align: right;\">\n",
       "      <th></th>\n",
       "      <th>Title</th>\n",
       "      <th>Genre</th>\n",
       "      <th>Summary</th>\n",
       "      <th>Genres List</th>\n",
       "    </tr>\n",
       "  </thead>\n",
       "  <tbody>\n",
       "    <tr>\n",
       "      <th>0</th>\n",
       "      <td>Animal Farm</td>\n",
       "      <td>{\"/m/016lj8\": \"Roman \\u00e0 clef\", \"/m/06nbt\":...</td>\n",
       "      <td>Old Major old boar Manor Farm calls animals fa...</td>\n",
       "      <td>[Roman à clef, Satire, Children's literature, ...</td>\n",
       "    </tr>\n",
       "    <tr>\n",
       "      <th>1</th>\n",
       "      <td>A Clockwork Orange</td>\n",
       "      <td>{\"/m/06n90\": \"Science Fiction\", \"/m/0l67h\": \"N...</td>\n",
       "      <td>Alex teenager living nearfuture England leads ...</td>\n",
       "      <td>[Science Fiction, Novella, Speculative fiction...</td>\n",
       "    </tr>\n",
       "    <tr>\n",
       "      <th>2</th>\n",
       "      <td>The Plague</td>\n",
       "      <td>{\"/m/02m4t\": \"Existentialism\", \"/m/02xlf\": \"Fi...</td>\n",
       "      <td>The text The Plague divided five parts In town...</td>\n",
       "      <td>[Existentialism, Fiction, Absurdist fiction, N...</td>\n",
       "    </tr>\n",
       "    <tr>\n",
       "      <th>4</th>\n",
       "      <td>A Fire Upon the Deep</td>\n",
       "      <td>{\"/m/03lrw\": \"Hard science fiction\", \"/m/06n90...</td>\n",
       "      <td>The novel posits space around Milky Way divide...</td>\n",
       "      <td>[Hard science fiction, Science Fiction, Specul...</td>\n",
       "    </tr>\n",
       "    <tr>\n",
       "      <th>5</th>\n",
       "      <td>All Quiet on the Western Front</td>\n",
       "      <td>{\"/m/098tmk\": \"War novel\", \"/m/016lj8\": \"Roman...</td>\n",
       "      <td>The book tells story Paul Bäumer German soldie...</td>\n",
       "      <td>[War novel, Roman à clef]</td>\n",
       "    </tr>\n",
       "  </tbody>\n",
       "</table>\n",
       "</div>"
      ],
      "text/plain": [
       "                            Title  \\\n",
       "0                     Animal Farm   \n",
       "1              A Clockwork Orange   \n",
       "2                      The Plague   \n",
       "4            A Fire Upon the Deep   \n",
       "5  All Quiet on the Western Front   \n",
       "\n",
       "                                               Genre  \\\n",
       "0  {\"/m/016lj8\": \"Roman \\u00e0 clef\", \"/m/06nbt\":...   \n",
       "1  {\"/m/06n90\": \"Science Fiction\", \"/m/0l67h\": \"N...   \n",
       "2  {\"/m/02m4t\": \"Existentialism\", \"/m/02xlf\": \"Fi...   \n",
       "4  {\"/m/03lrw\": \"Hard science fiction\", \"/m/06n90...   \n",
       "5  {\"/m/098tmk\": \"War novel\", \"/m/016lj8\": \"Roman...   \n",
       "\n",
       "                                             Summary  \\\n",
       "0  Old Major old boar Manor Farm calls animals fa...   \n",
       "1  Alex teenager living nearfuture England leads ...   \n",
       "2  The text The Plague divided five parts In town...   \n",
       "4  The novel posits space around Milky Way divide...   \n",
       "5  The book tells story Paul Bäumer German soldie...   \n",
       "\n",
       "                                         Genres List  \n",
       "0  [Roman à clef, Satire, Children's literature, ...  \n",
       "1  [Science Fiction, Novella, Speculative fiction...  \n",
       "2  [Existentialism, Fiction, Absurdist fiction, N...  \n",
       "4  [Hard science fiction, Science Fiction, Specul...  \n",
       "5                          [War novel, Roman à clef]  "
      ]
     },
     "execution_count": 16,
     "metadata": {},
     "output_type": "execute_result"
    }
   ],
   "source": [
    "import string\n",
    "# nltk.download('stopwords') # uncomment when stopwords throws exception/error\n",
    "from nltk.corpus import stopwords\n",
    "stop = stopwords.words('english')\n",
    "sep = chr(0)\n",
    "trans = str.maketrans('','',string.punctuation)\n",
    "book_df['Summary'] = sep.join(book_df['Summary']).translate(trans).split(sep)\n",
    "book_df['Summary'] = book_df['Summary'].apply( lambda s: ' '.join([w for w in s.split() if w not in stop]))\n",
    "book_df.head()"
   ]
  },
  {
   "cell_type": "markdown",
   "metadata": {},
   "source": [
    "Beacuse each book has different number of genres we need to convert genres label to matrix.  \n",
    "We can do this using sklearn MultiLabelBinarizer which will make binary matrix, we can later convert it back to list of genres using *inverse_transform* method.  \n",
    "I will also limit number of samples to first 4000 beacuse without it training model takes about 5 minutes and with limited samples only a minute.  "
   ]
  },
  {
   "cell_type": "code",
   "execution_count": 17,
   "metadata": {},
   "outputs": [],
   "source": [
    "from sklearn.feature_extraction.text import CountVectorizer\n",
    "from sklearn.preprocessing import MultiLabelBinarizer\n",
    "samples = 4000\n",
    "# samples = len(book_df.index)\n",
    "bX = book_df['Summary'].values[:samples]\n",
    "# convert lists of genres to matrix\n",
    "binarizer = MultiLabelBinarizer()\n",
    "by = binarizer.fit_transform(book_df['Genres List'].values[:samples])\n",
    "\n",
    "bX_train,bX_test , by_train,by_test = train_test_split(bX,by,test_size = 0.25, random_state = 20)\n"
   ]
  },
  {
   "cell_type": "code",
   "execution_count": 18,
   "metadata": {},
   "outputs": [],
   "source": [
    "vect = CountVectorizer()\n",
    "bX_train = vect.fit_transform(bX_train)\n",
    "bX_test = vect.transform(bX_test)"
   ]
  },
  {
   "cell_type": "code",
   "execution_count": 19,
   "metadata": {},
   "outputs": [
    {
     "name": "stdout",
     "output_type": "stream",
     "text": [
      "(4000, 180)\n"
     ]
    }
   ],
   "source": [
    "print(by.shape)"
   ]
  },
  {
   "cell_type": "markdown",
   "metadata": {},
   "source": [
    "Beacuse LogisticRegression supports only binary classification and only **one** value on output we need to use something else.  \n",
    "Fortunately we can convert most binary classifiers to multiclass classifiers, I will use simplest to use which is One vs Rest Classifier.  \n",
    "This class from **sklearn** creates *n* different models( where n is number of classes) of specified type(here logisticregression)"
   ]
  },
  {
   "cell_type": "code",
   "execution_count": 21,
   "metadata": {},
   "outputs": [
    {
     "name": "stderr",
     "output_type": "stream",
     "text": [
      "f:\\_uj_\\21_22_sem1\\DataScience\\env\\lib\\site-packages\\sklearn\\multiclass.py:80: UserWarning: Label not 5 is present in all training examples.\n",
      "  \"Label %s is present in all training examples.\" % str(classes[c])\n",
      "f:\\_uj_\\21_22_sem1\\DataScience\\env\\lib\\site-packages\\sklearn\\multiclass.py:80: UserWarning: Label not 8 is present in all training examples.\n",
      "  \"Label %s is present in all training examples.\" % str(classes[c])\n",
      "f:\\_uj_\\21_22_sem1\\DataScience\\env\\lib\\site-packages\\sklearn\\multiclass.py:80: UserWarning: Label not 51 is present in all training examples.\n",
      "  \"Label %s is present in all training examples.\" % str(classes[c])\n",
      "f:\\_uj_\\21_22_sem1\\DataScience\\env\\lib\\site-packages\\sklearn\\multiclass.py:80: UserWarning: Label not 87 is present in all training examples.\n",
      "  \"Label %s is present in all training examples.\" % str(classes[c])\n",
      "f:\\_uj_\\21_22_sem1\\DataScience\\env\\lib\\site-packages\\sklearn\\multiclass.py:80: UserWarning: Label not 93 is present in all training examples.\n",
      "  \"Label %s is present in all training examples.\" % str(classes[c])\n",
      "f:\\_uj_\\21_22_sem1\\DataScience\\env\\lib\\site-packages\\sklearn\\multiclass.py:80: UserWarning: Label not 117 is present in all training examples.\n",
      "  \"Label %s is present in all training examples.\" % str(classes[c])\n",
      "f:\\_uj_\\21_22_sem1\\DataScience\\env\\lib\\site-packages\\sklearn\\multiclass.py:80: UserWarning: Label not 162 is present in all training examples.\n",
      "  \"Label %s is present in all training examples.\" % str(classes[c])\n",
      "f:\\_uj_\\21_22_sem1\\DataScience\\env\\lib\\site-packages\\sklearn\\multiclass.py:80: UserWarning: Label not 179 is present in all training examples.\n",
      "  \"Label %s is present in all training examples.\" % str(classes[c])\n"
     ]
    },
    {
     "data": {
      "text/plain": [
       "OneVsRestClassifier(estimator=LogisticRegression(max_iter=2000))"
      ]
     },
     "execution_count": 21,
     "metadata": {},
     "output_type": "execute_result"
    }
   ],
   "source": [
    "from sklearn.multiclass import OneVsRestClassifier\n",
    "book_model = LogisticRegression(max_iter = 2000)\n",
    "ovr = OneVsRestClassifier(book_model)\n",
    "ovr.fit(bX_train,by_train)"
   ]
  },
  {
   "cell_type": "code",
   "execution_count": 22,
   "metadata": {},
   "outputs": [
    {
     "name": "stdout",
     "output_type": "stream",
     "text": [
      "[('Speculative fiction',), (), ('Fantasy', 'Fiction', 'Speculative fiction'), ('Mystery',), ()]\n",
      "[(\"Children's literature\", 'Fiction', 'Science Fiction', 'Speculative fiction'), (\"Children's literature\", 'Picture book'), (\"Children's literature\", 'Fantasy', 'High fantasy', 'Speculative fiction'), ('Mystery',), ('Existentialism',)]\n"
     ]
    }
   ],
   "source": [
    "by_pred = ovr.predict(bX_test)\n",
    "print(binarizer.inverse_transform(by_pred[:5]))\n",
    "print(binarizer.inverse_transform(by_test[:5]))"
   ]
  },
  {
   "cell_type": "markdown",
   "metadata": {},
   "source": [
    "Here we see one problem some genres are really similar like: Fantasy and High Fantasy.  \n",
    "Test book had: ('Fantasy', 'Fiction', 'Speculative fiction') genres  \n",
    "and model predicted (\"Children's literature\", 'Fantasy', 'High fantasy', 'Speculative fiction')  \n"
   ]
  },
  {
   "cell_type": "code",
   "execution_count": 23,
   "metadata": {},
   "outputs": [
    {
     "data": {
      "text/plain": [
       "0.09"
      ]
     },
     "execution_count": 23,
     "metadata": {},
     "output_type": "execute_result"
    }
   ],
   "source": [
    "ovr.score(bX_test,by_test)"
   ]
  },
  {
   "cell_type": "markdown",
   "metadata": {},
   "source": [
    "As we can see out model perfectly predicted(number AND genres match test data) only a 9% of our test sample.  \n",
    "That's why this section was mostly made to learn how to even start with such a model.  "
   ]
  }
 ],
 "metadata": {
  "interpreter": {
   "hash": "3beee5f97c3291cc4fa16d19428a099139405ba9907fd0ed556f3ed4835300f2"
  },
  "kernelspec": {
   "display_name": "Python 3.7.6 64-bit ('env': venv)",
   "name": "python3"
  },
  "language_info": {
   "codemirror_mode": {
    "name": "ipython",
    "version": 3
   },
   "file_extension": ".py",
   "mimetype": "text/x-python",
   "name": "python",
   "nbconvert_exporter": "python",
   "pygments_lexer": "ipython3",
   "version": "3.7.6"
  },
  "orig_nbformat": 4
 },
 "nbformat": 4,
 "nbformat_minor": 2
}
