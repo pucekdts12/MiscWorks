{
  "cells": [
    {
      "cell_type": "markdown",
      "id": "3d8b4b91",
      "metadata": {
        "id": "3d8b4b91"
      },
      "source": [
        "# Skin segmentation - Solution\n"
      ]
    },
    {
      "cell_type": "code",
      "source": [
        "import numpy as np\n",
        "import matplotlib.pyplot as plt\n",
        "import torch\n",
        "from torch import nn"
      ],
      "metadata": {
        "id": "sE3ArLVTK8ij"
      },
      "id": "sE3ArLVTK8ij",
      "execution_count": null,
      "outputs": []
    },
    {
      "cell_type": "code",
      "source": [
        "# load file from google drive\n",
        "from google.colab import drive\n",
        "drive.mount('/content/drive')\n",
        "data = np.loadtxt('/content/drive/My Drive/DataScience2021/Skin_NonSkin.txt')"
      ],
      "metadata": {
        "colab": {
          "base_uri": "https://localhost:8080/"
        },
        "id": "dHZXAvelfgcf",
        "outputId": "04107c75-850e-477a-90ee-92f0a51c7a21"
      },
      "id": "dHZXAvelfgcf",
      "execution_count": null,
      "outputs": [
        {
          "output_type": "stream",
          "name": "stdout",
          "text": [
            "Drive already mounted at /content/drive; to attempt to forcibly remount, call drive.mount(\"/content/drive\", force_remount=True).\n"
          ]
        }
      ]
    },
    {
      "cell_type": "code",
      "source": [
        "# load file from local dir\n",
        "data = np.loadtxt('Skin_NonSkin.txt')"
      ],
      "metadata": {
        "id": "TjvRwg0Zfium"
      },
      "id": "TjvRwg0Zfium",
      "execution_count": null,
      "outputs": []
    },
    {
      "cell_type": "code",
      "source": [
        "# split params from output\n",
        "rgb  = data[:,:3].astype('float32')\n",
        "# 'normalize' values to {0 - noskin , 1 - skin}\n",
        "lbl = 2-(data[:,3].astype('float32') )\n",
        "\n",
        "rgb_t = torch.from_numpy(rgb)\n",
        "lbl_t = torch.from_numpy(lbl).reshape(-1,1)"
      ],
      "metadata": {
        "id": "1IE_QUR7LLUP"
      },
      "id": "1IE_QUR7LLUP",
      "execution_count": null,
      "outputs": []
    },
    {
      "cell_type": "code",
      "source": [
        "# model = nn.Sequential(nn.Linear(3,100), nn.Sigmoid() ,nn.Linear(100,1) )\n",
        "# model = nn.Sequential(nn.Linear(3,100), nn.ReLU(), nn.Linear(100,20), nn.SELU() ,nn.Linear(20,1) )\n",
        "\n",
        "model = nn.Sequential(nn.Linear(3,64), nn.BatchNorm1d(64), nn.ReLU(), nn.Linear(64,64), nn.BatchNorm1d(64),nn.ReLU() ,nn.Linear(64,1) )\n",
        "\n",
        "#model2.pt\n",
        "#model = nn.Sequential(nn.Linear(3,64), nn.ReLU(), nn.Linear(64,64), nn.ReLU() ,nn.Linear(64,1) )"
      ],
      "metadata": {
        "id": "HnjxoYAmNcKM"
      },
      "id": "HnjxoYAmNcKM",
      "execution_count": null,
      "outputs": []
    },
    {
      "cell_type": "code",
      "source": [
        "dataset = torch.utils.data.TensorDataset(rgb_t, lbl_t)\n",
        "train_dataset, validation_dataset = torch.utils.data.random_split(dataset,(200000,45057))\n",
        "train_loader = torch.utils.data.DataLoader(train_dataset,batch_size=len(train_dataset))\n",
        "\n",
        "optimizer = torch.optim.Adam(model.parameters(),lr = 0.003)\n",
        "\n",
        "# loss_fn = torch.nn.MSELoss()\n",
        "loss_fn = nn.BCEWithLogitsLoss()"
      ],
      "metadata": {
        "id": "3IxD6Pm0Lr5O"
      },
      "id": "3IxD6Pm0Lr5O",
      "execution_count": null,
      "outputs": []
    },
    {
      "cell_type": "code",
      "source": [
        "def accuracy(valid, pred): # percent of True Positive\n",
        "  rounded = torch.round(torch.sigmoid(pred))\n",
        "  correct = (rounded == valid).sum().float()\n",
        "  #return torch.round((correct/(valid.shape[0]))*100)\n",
        "  return (correct/(valid.shape[0])*100)"
      ],
      "metadata": {
        "id": "AzmIp86ezb85"
      },
      "id": "AzmIp86ezb85",
      "execution_count": null,
      "outputs": []
    },
    {
      "cell_type": "code",
      "source": [
        "%%time\n",
        "print('%-5s %-12s %-12s %-12s' % ('epoch','loss','tAccuracy','vAccuracy'))\n",
        "# E = 20\n",
        "E = 30\n",
        "for epoch in range(1,E+1): \n",
        "  for datum in train_loader:\n",
        "    optimizer.zero_grad()\n",
        "    (features,target) = datum\n",
        "    pred = model(features)\n",
        "    loss = loss_fn(pred, target)\n",
        "    train_acc = accuracy(target, pred)\n",
        "\n",
        "    valid_pred = model(validation_dataset[:][0])\n",
        "    valid_acc = accuracy(validation_dataset[:][1], valid_pred)\n",
        "\n",
        "    loss.backward()\n",
        "    optimizer.step()\n",
        "  if epoch%5==0:\n",
        "    print(f\"{epoch:<5d} {loss:<12.6f} {train_acc:<12.6f} {valid_acc:<12.6f}\")\n",
        "print(f\"{epoch:<5d} {loss:<12.6f} {train_acc:<12.6f} {valid_acc:<12.6f}\")"
      ],
      "metadata": {
        "colab": {
          "base_uri": "https://localhost:8080/"
        },
        "id": "SCDvvjtAMiZl",
        "outputId": "c6fcbfcb-d06b-491e-ce74-26395b8e5ced"
      },
      "id": "SCDvvjtAMiZl",
      "execution_count": null,
      "outputs": [
        {
          "output_type": "stream",
          "name": "stdout",
          "text": [
            "epoch loss         tAccuracy    vAccuracy   \n",
            "5     0.380804     93.173500    93.261871   \n",
            "10    0.263385     95.782501    95.838608   \n",
            "15    0.203638     97.339996    97.385529   \n",
            "20    0.163952     97.868500    97.904877   \n",
            "25    0.134173     98.067497    98.137917   \n",
            "30    0.110555     98.512497    98.606209   \n",
            "30    0.110555     98.512497    98.606209   \n",
            "CPU times: user 1min 27s, sys: 2.44 s, total: 1min 29s\n",
            "Wall time: 1min 30s\n"
          ]
        }
      ]
    },
    {
      "cell_type": "code",
      "source": [
        "from sklearn.metrics import confusion_matrix\n",
        "\n",
        "t_x = validation_dataset[:][0]\n",
        "t_valid = validation_dataset[:][1]\n",
        "\n",
        "t_pred = torch.round(torch.sigmoid(model(t_x)))\n",
        "\n",
        "# Calculate Confusion Matrix\n",
        "# From sklearn docs (https://scikit-learn.org/stable/modules/generated/sklearn.metrics.confusion_matrix.html):\n",
        "# Thus in binary classification, the count of true negatives is C0,0, false negatives is C10 , true positives is C11 and false positives is C01.\n",
        "#  Matrix\n",
        "# | True Negative  , False Positive |\n",
        "# | False Negative , True Positive  |\n",
        "\n",
        "CM = confusion_matrix(t_valid.data.view(-1).numpy(),t_pred.data.view(-1).numpy())\n",
        "# unpack to variables\n",
        "(TN,FP),(FN,TP) = CM\n",
        "\n",
        "# From wikipedia (https://en.wikipedia.org/wiki/Sensitivity_and_specificity)\n",
        "#  true positive (TP) - A test result that correctly indicates the presence of a condition or characteristic\n",
        "# false positive (FP) - A test result which wrongly indicates that a particular condition or attribute is present\n",
        "\n",
        "TPR = TP/(TP+FN)\n",
        "\n",
        "FPR = FP/(FP+TN)\n",
        "\n",
        "\n",
        "print(f\"\"\"Model's\n",
        "True Positive Rate: {TPR}\n",
        "False Positive Rate: {FPR}\"\"\")\n"
      ],
      "metadata": {
        "colab": {
          "base_uri": "https://localhost:8080/"
        },
        "id": "3_Yb0Ev48l3q",
        "outputId": "28166131-53c8-43de-ea57-c5184a9a2e20"
      },
      "id": "3_Yb0Ev48l3q",
      "execution_count": null,
      "outputs": [
        {
          "output_type": "stream",
          "name": "stdout",
          "text": [
            "Model's\n",
            "True Positive Rate: 0.9995761364840521\n",
            "False Positive Rate: 0.017321729365524986\n"
          ]
        }
      ]
    },
    {
      "cell_type": "markdown",
      "source": [
        "Model Saving"
      ],
      "metadata": {
        "id": "XHAaGJk9f8bV"
      },
      "id": "XHAaGJk9f8bV"
    },
    {
      "cell_type": "code",
      "source": [
        "model_id = 0"
      ],
      "metadata": {
        "id": "YdstDa9_OL9s"
      },
      "id": "YdstDa9_OL9s",
      "execution_count": null,
      "outputs": []
    },
    {
      "cell_type": "code",
      "source": [
        "print(model_id)"
      ],
      "metadata": {
        "colab": {
          "base_uri": "https://localhost:8080/"
        },
        "id": "arP6a_3_5O55",
        "outputId": "89372c31-5a46-4ec1-e638-2792c983f70a"
      },
      "id": "arP6a_3_5O55",
      "execution_count": null,
      "outputs": [
        {
          "output_type": "stream",
          "name": "stdout",
          "text": [
            "3\n"
          ]
        }
      ]
    },
    {
      "cell_type": "code",
      "source": [
        "# save to google drive\n",
        "model_id += 1\n",
        "model_file = f\"/content/drive/My Drive/DataScience2021/models_skin/model{model_id}.pt\"\n",
        "print(f'Saving model at {model_file}')\n",
        "torch.save(model, model_file)"
      ],
      "metadata": {
        "colab": {
          "base_uri": "https://localhost:8080/"
        },
        "id": "PlagrB5H1gOX",
        "outputId": "356bcac6-2fe4-41cf-9c06-62f407c08aca"
      },
      "id": "PlagrB5H1gOX",
      "execution_count": null,
      "outputs": [
        {
          "output_type": "stream",
          "name": "stdout",
          "text": [
            "Saving model at /content/drive/My Drive/DataScience2021/models_skin/model4.pt\n"
          ]
        }
      ]
    }
  ],
  "metadata": {
    "jupytext": {
      "text_representation": {
        "extension": ".md",
        "format_name": "myst",
        "format_version": 0.13,
        "jupytext_version": "1.13.0"
      }
    },
    "kernelspec": {
      "display_name": "Python 3 (ipykernel)",
      "language": "python",
      "name": "python3"
    },
    "language_info": {
      "codemirror_mode": {
        "name": "ipython",
        "version": 3
      },
      "file_extension": ".py",
      "mimetype": "text/x-python",
      "name": "python",
      "nbconvert_exporter": "python",
      "pygments_lexer": "ipython3",
      "version": "3.9.7"
    },
    "colab": {
      "name": "skin_segmentation_main.ipynb",
      "provenance": [],
      "collapsed_sections": []
    }
  },
  "nbformat": 4,
  "nbformat_minor": 5
}